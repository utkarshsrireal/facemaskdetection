{
 "cells": [
  {
   "cell_type": "code",
   "execution_count": 6,
   "id": "275acac4",
   "metadata": {},
   "outputs": [],
   "source": [
    "from keras.optimizers import RMSprop\n",
    "from keras.preprocessing.image import ImageDataGenerator\n",
    "import cv2\n",
    "from keras.models import Sequential\n",
    "from keras.layers import Conv2D, Input, ZeroPadding2D, BatchNormalization, Activation, MaxPooling2D, Flatten, Dense,Dropout\n",
    "from keras.models import Model, load_model\n",
    "from keras.callbacks import TensorBoard, ModelCheckpoint\n",
    "from sklearn.model_selection import train_test_split\n",
    "from sklearn.metrics import f1_score\n",
    "from sklearn.utils import shuffle\n",
    "import imutils\n",
    "import numpy as np"
   ]
  },
  {
   "cell_type": "code",
   "execution_count": 13,
   "id": "c294d4f5",
   "metadata": {},
   "outputs": [],
   "source": [
    "model = Sequential([\n",
    "    Conv2D(100, (3,3), activation='relu', input_shape=(150, 150, 3)),\n",
    "    MaxPooling2D(2,2),\n",
    "    \n",
    "    Conv2D(100, (3,3), activation='relu'),\n",
    "    MaxPooling2D(2,2),\n",
    "    \n",
    "    Flatten(),\n",
    "    Dropout(0.5),\n",
    "    Dense(50, activation='relu'),\n",
    "    Dense(2, activation='softmax')\n",
    "])\n",
    "model.compile(optimizer='adam', loss='binary_crossentropy', metrics=['acc'])"
   ]
  },
  {
   "cell_type": "code",
   "execution_count": 14,
   "id": "bd60ea67",
   "metadata": {},
   "outputs": [
    {
     "name": "stdout",
     "output_type": "stream",
     "text": [
      "Found 1315 images belonging to 1 classes.\n",
      "Found 194 images belonging to 1 classes.\n"
     ]
    }
   ],
   "source": [
    "TRAINING_DIR = \"C:\\\\Users\\\\LENOVO PC\\\\Documents\\\\face mask\\\\face-mask-dataset\\\\Dataset\\\\train\"\n",
    "train_datagen = ImageDataGenerator(rescale=1.0/255,\n",
    "                                   rotation_range=40,\n",
    "                                   width_shift_range=0.2,\n",
    "                                   height_shift_range=0.2,\n",
    "                                   shear_range=0.2,\n",
    "                                   zoom_range=0.2,\n",
    "                                   horizontal_flip=True,\n",
    "                                   fill_mode='nearest')\n",
    "\n",
    "train_generator = train_datagen.flow_from_directory(TRAINING_DIR, \n",
    "                                                    batch_size=10, \n",
    "                                                    target_size=(150, 150))\n",
    "VALIDATION_DIR = \"C:\\\\Users\\\\LENOVO PC\\\\Documents\\\\face mask\\\\face-mask-dataset\\\\Dataset\\\\test\"\n",
    "validation_datagen = ImageDataGenerator(rescale=1.0/255)\n",
    "\n",
    "validation_generator = validation_datagen.flow_from_directory(VALIDATION_DIR, \n",
    "                                                         batch_size=10, \n",
    "                                                         target_size=(150, 150))"
   ]
  },
  {
   "cell_type": "code",
   "execution_count": 15,
   "id": "6da16333",
   "metadata": {},
   "outputs": [],
   "source": [
    "checkpoint = ModelCheckpoint('model2-{epoch:03d}.model',monitor='val_loss',verbose=0,save_best_only=True,mode='auto')"
   ]
  },
  {
   "cell_type": "code",
   "execution_count": 16,
   "id": "5c3a790b",
   "metadata": {},
   "outputs": [
    {
     "name": "stderr",
     "output_type": "stream",
     "text": [
      "C:\\Users\\LENOVO~1\\AppData\\Local\\Temp/ipykernel_20348/3620006576.py:1: UserWarning: `Model.fit_generator` is deprecated and will be removed in a future version. Please use `Model.fit`, which supports generators.\n",
      "  history = model.fit_generator(train_generator,\n"
     ]
    },
    {
     "name": "stdout",
     "output_type": "stream",
     "text": [
      "Epoch 1/10\n",
      "132/132 [==============================] - ETA: 0s - loss: 0.0053 - acc: 0.0068"
     ]
    },
    {
     "name": "stderr",
     "output_type": "stream",
     "text": [
      "WARNING:absl:Found untraced functions such as _jit_compiled_convolution_op, _jit_compiled_convolution_op, _update_step_xla while saving (showing 3 of 3). These functions will not be directly callable after loading.\n"
     ]
    },
    {
     "name": "stdout",
     "output_type": "stream",
     "text": [
      "INFO:tensorflow:Assets written to: model2-001.model\\assets\n"
     ]
    },
    {
     "name": "stderr",
     "output_type": "stream",
     "text": [
      "INFO:tensorflow:Assets written to: model2-001.model\\assets\n"
     ]
    },
    {
     "name": "stdout",
     "output_type": "stream",
     "text": [
      "132/132 [==============================] - 60s 440ms/step - loss: 0.0053 - acc: 0.0068 - val_loss: 2.6099e-34 - val_acc: 0.0000e+00\n",
      "Epoch 2/10\n",
      "132/132 [==============================] - ETA: 0s - loss: 1.1235e-30 - acc: 0.0000e+00"
     ]
    },
    {
     "name": "stderr",
     "output_type": "stream",
     "text": [
      "WARNING:absl:Found untraced functions such as _jit_compiled_convolution_op, _jit_compiled_convolution_op, _update_step_xla while saving (showing 3 of 3). These functions will not be directly callable after loading.\n"
     ]
    },
    {
     "name": "stdout",
     "output_type": "stream",
     "text": [
      "INFO:tensorflow:Assets written to: model2-002.model\\assets\n"
     ]
    },
    {
     "name": "stderr",
     "output_type": "stream",
     "text": [
      "INFO:tensorflow:Assets written to: model2-002.model\\assets\n"
     ]
    },
    {
     "name": "stdout",
     "output_type": "stream",
     "text": [
      "132/132 [==============================] - 58s 441ms/step - loss: 1.1235e-30 - acc: 0.0000e+00 - val_loss: 2.6095e-34 - val_acc: 0.0000e+00\n",
      "Epoch 3/10\n",
      "132/132 [==============================] - 58s 439ms/step - loss: 4.7660e-25 - acc: 0.0000e+00 - val_loss: 2.6095e-34 - val_acc: 0.0000e+00\n",
      "Epoch 4/10\n",
      "132/132 [==============================] - 58s 436ms/step - loss: 2.1996e-25 - acc: 0.0000e+00 - val_loss: 2.6095e-34 - val_acc: 0.0000e+00\n",
      "Epoch 5/10\n",
      "132/132 [==============================] - 58s 439ms/step - loss: 2.2684e-26 - acc: 0.0000e+00 - val_loss: 2.6095e-34 - val_acc: 0.0000e+00\n",
      "Epoch 6/10\n",
      "132/132 [==============================] - 57s 433ms/step - loss: 3.4412e-31 - acc: 0.0000e+00 - val_loss: 2.6095e-34 - val_acc: 0.0000e+00\n",
      "Epoch 7/10\n",
      "132/132 [==============================] - 57s 429ms/step - loss: 5.2870e-30 - acc: 0.0000e+00 - val_loss: 2.6095e-34 - val_acc: 0.0000e+00\n",
      "Epoch 8/10\n",
      "132/132 [==============================] - 57s 428ms/step - loss: 3.1656e-28 - acc: 0.0000e+00 - val_loss: 2.6095e-34 - val_acc: 0.0000e+00\n",
      "Epoch 9/10\n",
      "132/132 [==============================] - 57s 428ms/step - loss: 3.4635e-25 - acc: 0.0000e+00 - val_loss: 2.6095e-34 - val_acc: 0.0000e+00\n",
      "Epoch 10/10\n",
      "132/132 [==============================] - 56s 427ms/step - loss: 1.4838e-29 - acc: 0.0000e+00 - val_loss: 2.6095e-34 - val_acc: 0.0000e+00\n"
     ]
    }
   ],
   "source": [
    "history = model.fit_generator(train_generator,\n",
    "                              epochs=10,\n",
    "                              validation_data=validation_generator,\n",
    "                              callbacks=[checkpoint])"
   ]
  },
  {
   "cell_type": "code",
   "execution_count": null,
   "id": "ee474614",
   "metadata": {},
   "outputs": [],
   "source": []
  }
 ],
 "metadata": {
  "kernelspec": {
   "display_name": "Python 3 (ipykernel)",
   "language": "python",
   "name": "python3"
  },
  "language_info": {
   "codemirror_mode": {
    "name": "ipython",
    "version": 3
   },
   "file_extension": ".py",
   "mimetype": "text/x-python",
   "name": "python",
   "nbconvert_exporter": "python",
   "pygments_lexer": "ipython3",
   "version": "3.9.7"
  }
 },
 "nbformat": 4,
 "nbformat_minor": 5
}
